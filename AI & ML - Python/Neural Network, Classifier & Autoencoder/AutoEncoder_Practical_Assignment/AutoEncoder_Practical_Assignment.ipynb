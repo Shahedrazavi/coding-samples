{
  "cells": [
    {
      "cell_type": "markdown",
      "source": [
        "Name: Shahed Razavi   Student ID: 99104627"
      ],
      "metadata": {
        "id": "6ubqK9YeEEbv"
      }
    },
    {
      "cell_type": "markdown",
      "metadata": {
        "id": "UpqOZ2JemP0B"
      },
      "source": [
        "1. Download the MNIST dataset and create a dataloader that adds gaussian noise to the input images.\n",
        "2. Design and train an AutoEncoder on the MNIST dataset to denoise the noisy images.\n",
        "3. Randomly choose one image for each digit and visualize the initial images and their corresponding noisy images and decoded images side by side.\n",
        "4. Compute latent feature vectors of images. (The output of the encoder network)\n",
        "5. Use PCA to reduce the dimensionality of latent features to 2 and visualize the data points in a scatter plot. Use a different color for each digit.\n",
        "6. Repeat the previous step with TSNE.\n",
        "7. What do you conclude from steps 4 and 5 about the learned latent representation of the data?\n",
        "\n",
        "Bonus:\n",
        "1. Create a data loader that rotates input images with a random degree.\n",
        "2. Design and train a Variational AutoEncoder that gets rotated images as input and outputs an image so that the digit in the image would become horizontal.\n",
        "\n",
        "Useful links:\n",
        "- [AE](https://medium.com/@AnasBrital98/autoencoders-explained-da131e60e02a)\n",
        "- [VAE](https://towardsdatascience.com/understanding-variational-autoencoders-vaes-f70510919f73)\n",
        "- [PCA](https://towardsdatascience.com/the-most-gentle-introduction-to-principal-component-analysis-9ffae371e93b#:~:text=From%20Wikipedia%2C%20PCA%20is%20a,find%20unmeasured%20%E2%80%9Clatent%20variables%E2%80%9D.)\n",
        "- [T-SNE](https://towardsdatascience.com/t-sne-clearly-explained-d84c537f53a)"
      ]
    },
    {
      "cell_type": "code",
      "source": [
        "import numpy as np\n",
        "import pandas as pd\n",
        "import matplotlib.pyplot as plt\n",
        "from matplotlib.image import imread\n",
        "import cv2\n",
        "import random\n",
        "import os\n",
        "\n",
        "from PIL import Image\n",
        "from sklearn.model_selection import train_test_split\n",
        "from IPython.display import clear_output\n",
        "from sklearn.decomposition import PCA\n",
        "from sklearn.manifold import TSNE\n",
        "import torch\n",
        "import torchvision\n",
        "from torchvision import transforms\n",
        "from torch.utils.data import Dataset, DataLoader, random_split\n",
        "from torch import nn"
      ],
      "metadata": {
        "id": "-qNlFVRoE_3y"
      },
      "execution_count": 1,
      "outputs": []
    },
    {
      "cell_type": "code",
      "source": [
        "device = torch.device('cuda' if torch.cuda.is_available() else 'cpu')\n",
        "device"
      ],
      "metadata": {
        "colab": {
          "base_uri": "https://localhost:8080/"
        },
        "id": "dUlloH_IFLBm",
        "outputId": "63fcc79a-b134-4b06-8c81-4f4c4785973c"
      },
      "execution_count": 2,
      "outputs": [
        {
          "output_type": "execute_result",
          "data": {
            "text/plain": [
              "device(type='cuda')"
            ]
          },
          "metadata": {},
          "execution_count": 2
        }
      ]
    },
    {
      "cell_type": "markdown",
      "source": [
        "###PART 1:"
      ],
      "metadata": {
        "id": "zD5RsWKwDrDj"
      }
    },
    {
      "cell_type": "code",
      "source": [
        "# def noise(input,factor=0.3):\n",
        "# \toutput = input + factor * torch.randn_like(input) \n",
        "# \toutput = torch.clip(output,0.,1.)\n",
        "# \treturn output\n",
        "\n",
        "\n",
        "class Noise(object):\n",
        "    def __init__(self, factor=0.3):\n",
        "      self.factor = factor\n",
        "\n",
        "    def __call__(self, x):\n",
        "      out = x + self.factor * torch.randn_like(x)\n",
        "      out = torch.clip(out,0.,1.)\n",
        "      return out"
      ],
      "metadata": {
        "id": "vB3ygIuJOmF4"
      },
      "execution_count": 3,
      "outputs": []
    },
    {
      "cell_type": "code",
      "execution_count": 4,
      "metadata": {
        "id": "KgcUlXkWMk89",
        "colab": {
          "base_uri": "https://localhost:8080/",
          "height": 429,
          "referenced_widgets": [
            "39f6d94cf5514831aeb9a268622f1c16",
            "3b539cf2bad54a089252ccf968c50be2",
            "0d3b9ea3aad5468d95c48dc29e83ac22",
            "593111a47d034a85af07083e40f2dfc5",
            "2b26b6e03cc2454c88aa3af62cd55d63",
            "769c5a38db124fcf9a0a59bbe4d916cd",
            "8b11364fc27b42fda3e1549896af7d19",
            "ab26f8e35bcb45bdaf36bcc749bff056",
            "1c82f0edb1504bc9ace54731a3803597",
            "b2d52c23dc93442e8d2799faf6632b78",
            "41eb2c50a96b4a2fa69f2a1304f67ced",
            "a1906f5d1d154718943ce9e6e3d1545f",
            "b11bb1154e264186815855b66f49727b",
            "84a306dbd182427c8237d7273cf15767",
            "9aa80c5339094e2d8692230d01b6b25d",
            "a4bfc3be1d3741f6b8640b34cfac479f",
            "390990f74f434db6abc743d5e303d9de",
            "ee87747828b14b51b3f5050dd5887474",
            "fddf68ca20c24502b1b69ace34198844",
            "8baa066adb2e4d9c8a4069b6032bdc85",
            "642ceb536b1149da8d2a996e206f96b3",
            "5d8cf5819c9543989d9a404a79249d7f",
            "67cea66da67e4255aee9abe85fc25bb6",
            "0874b367991b4ce489a86b748bf9b0f4",
            "08154f37950c4193b0b69a77f09c8fc3",
            "201a165e206043a6b1b961704b8ee869",
            "cdda38e919e1420187e9ac6f62109fd3",
            "59c53b678a8e43e2bbb699c5a9457bb6",
            "bf7a86b09fc0485bb33358f11578257f",
            "f0a0d7e7781d4490b68ae8076b033baf",
            "e4323c8885ed4581adcd9e5556ec609c",
            "b0430b36ef7c446ea235bb25bf9f0833",
            "d781f557da41485e906142480fb7003c",
            "30833d99f7d7476480b290b4d15cedab",
            "52417bcfba7a48438607244df68411f0",
            "8920798959d44f14bfa31b4e767a4976",
            "10ed25acebe340bc9ef4597575222027",
            "3bd73e848ee641d0ae50a3a2b6527525",
            "f4e1c9732d7c454996e6464f7ccfcc28",
            "cd4120a34d08420b80b33915aebee8a1",
            "441ca5539dc5423da129e187e7efa5f8",
            "34fd1645eef14f2dab5addefc8c85d59",
            "15edd17f53c245808061302fb87fb696",
            "60ff38725f9b4cc09766a7e987d7f82c"
          ]
        },
        "outputId": "8c2889af-76c1-4ec2-e913-7bd57c2e6677"
      },
      "outputs": [
        {
          "output_type": "stream",
          "name": "stdout",
          "text": [
            "Downloading http://yann.lecun.com/exdb/mnist/train-images-idx3-ubyte.gz\n",
            "Downloading http://yann.lecun.com/exdb/mnist/train-images-idx3-ubyte.gz to dataset/MNIST/raw/train-images-idx3-ubyte.gz\n"
          ]
        },
        {
          "output_type": "display_data",
          "data": {
            "text/plain": [
              "  0%|          | 0/9912422 [00:00<?, ?it/s]"
            ],
            "application/vnd.jupyter.widget-view+json": {
              "version_major": 2,
              "version_minor": 0,
              "model_id": "39f6d94cf5514831aeb9a268622f1c16"
            }
          },
          "metadata": {}
        },
        {
          "output_type": "stream",
          "name": "stdout",
          "text": [
            "Extracting dataset/MNIST/raw/train-images-idx3-ubyte.gz to dataset/MNIST/raw\n",
            "\n",
            "Downloading http://yann.lecun.com/exdb/mnist/train-labels-idx1-ubyte.gz\n",
            "Downloading http://yann.lecun.com/exdb/mnist/train-labels-idx1-ubyte.gz to dataset/MNIST/raw/train-labels-idx1-ubyte.gz\n"
          ]
        },
        {
          "output_type": "display_data",
          "data": {
            "text/plain": [
              "  0%|          | 0/28881 [00:00<?, ?it/s]"
            ],
            "application/vnd.jupyter.widget-view+json": {
              "version_major": 2,
              "version_minor": 0,
              "model_id": "a1906f5d1d154718943ce9e6e3d1545f"
            }
          },
          "metadata": {}
        },
        {
          "output_type": "stream",
          "name": "stdout",
          "text": [
            "Extracting dataset/MNIST/raw/train-labels-idx1-ubyte.gz to dataset/MNIST/raw\n",
            "\n",
            "Downloading http://yann.lecun.com/exdb/mnist/t10k-images-idx3-ubyte.gz\n",
            "Downloading http://yann.lecun.com/exdb/mnist/t10k-images-idx3-ubyte.gz to dataset/MNIST/raw/t10k-images-idx3-ubyte.gz\n"
          ]
        },
        {
          "output_type": "display_data",
          "data": {
            "text/plain": [
              "  0%|          | 0/1648877 [00:00<?, ?it/s]"
            ],
            "application/vnd.jupyter.widget-view+json": {
              "version_major": 2,
              "version_minor": 0,
              "model_id": "67cea66da67e4255aee9abe85fc25bb6"
            }
          },
          "metadata": {}
        },
        {
          "output_type": "stream",
          "name": "stdout",
          "text": [
            "Extracting dataset/MNIST/raw/t10k-images-idx3-ubyte.gz to dataset/MNIST/raw\n",
            "\n",
            "Downloading http://yann.lecun.com/exdb/mnist/t10k-labels-idx1-ubyte.gz\n",
            "Downloading http://yann.lecun.com/exdb/mnist/t10k-labels-idx1-ubyte.gz to dataset/MNIST/raw/t10k-labels-idx1-ubyte.gz\n"
          ]
        },
        {
          "output_type": "display_data",
          "data": {
            "text/plain": [
              "  0%|          | 0/4542 [00:00<?, ?it/s]"
            ],
            "application/vnd.jupyter.widget-view+json": {
              "version_major": 2,
              "version_minor": 0,
              "model_id": "30833d99f7d7476480b290b4d15cedab"
            }
          },
          "metadata": {}
        },
        {
          "output_type": "stream",
          "name": "stdout",
          "text": [
            "Extracting dataset/MNIST/raw/t10k-labels-idx1-ubyte.gz to dataset/MNIST/raw\n",
            "\n"
          ]
        }
      ],
      "source": [
        "main_dir = 'dataset'\n",
        "\n",
        "train_MNIST = torchvision.datasets.MNIST(main_dir, train=True, download=True)\n",
        "test_MNIST = torchvision.datasets.MNIST(main_dir, train=False, download=True)"
      ]
    },
    {
      "cell_type": "code",
      "source": [
        "train_data , val_data = random_split(train_MNIST, [int(0.8*len(train_MNIST)),int(0.2*len(train_MNIST))])\n",
        "\n",
        "transform = transforms.Compose([\n",
        "    transforms.ToTensor(),\n",
        "    Noise()\n",
        "])\n",
        "transform2 = transforms.Compose([\n",
        "    transforms.ToTensor()\n",
        "])\n",
        "batch_size=140\n",
        "\n",
        "\n",
        "train_data_noised = [[transform2(d[0]) , transform(d[0]), d[1]] for d in train_data]\n",
        "val_data_noised = [[transform2(d[0])  , transform(d[0]), d[1]] for d in val_data]\n",
        "test_data_noised = [[transform2(d[0])  , transform(d[0]), d[1]] for d in test_MNIST]\n",
        "\n",
        "train_loader = torch.utils.data.DataLoader(train_data_noised, batch_size=batch_size, shuffle=True)\n",
        "val_loader = torch.utils.data.DataLoader(val_data_noised, batch_size=batch_size, shuffle=True)\n",
        "test_loader = torch.utils.data.DataLoader(test_data_noised, batch_size=batch_size, shuffle=True)"
      ],
      "metadata": {
        "id": "ol_liLFJ0DKz"
      },
      "execution_count": 5,
      "outputs": []
    },
    {
      "cell_type": "markdown",
      "source": [
        "###PART 2:"
      ],
      "metadata": {
        "id": "7PecvnFOSVZe"
      }
    },
    {
      "cell_type": "code",
      "source": [
        "latent_dim = 4\n",
        "\n",
        "class Encoder(nn.Module):\n",
        "  def __init__(self, latent_dim):\n",
        "    super().__init__()\n",
        "\n",
        "    self.cnn = nn.Sequential(\n",
        "        nn.Conv2d(1,8,3,padding=1,stride=2),\n",
        "        nn.ReLU(True),\n",
        "        nn.Conv2d(8,16,3,padding=1,stride=2),\n",
        "        nn.BatchNorm2d(16),\n",
        "        nn.ReLU(True),\n",
        "        nn.Conv2d(16,32,3,padding=0,stride=2),\n",
        "        nn.ReLU(True)\n",
        "    )\n",
        "\n",
        "    self.fl = nn.Flatten(start_dim=1)\n",
        "    self.fc = nn.Sequential(\n",
        "        nn.Linear(3*3*32, 128),\n",
        "        nn.ReLU(True),\n",
        "        nn.Linear(128, latent_dim),\n",
        "    )\n",
        "\n",
        "    self.latent_dim = latent_dim\n",
        "  \n",
        "  def forward(self, inp):\n",
        "    out = self.cnn(inp)\n",
        "    out = self.fl(out)\n",
        "    out = self.fc(out)\n",
        "    return out\n",
        "\n",
        "\n",
        "\n",
        "class Decoder(nn.Module):\n",
        "  def __init__(self, latent_dim):\n",
        "    super().__init__()\n",
        "\n",
        "    self.decode_fc = nn.Sequential(\n",
        "        nn.Linear(latent_dim, 128),\n",
        "        nn.ReLU(True),\n",
        "        nn.Linear(128, 3*3*32),\n",
        "        nn.ReLU(True)\n",
        "    )\n",
        "\n",
        "    self.ufl = nn.Unflatten(dim=1, unflattened_size=(32, 3, 3))\n",
        "\n",
        "    self.decode_cnn = nn.Sequential(\n",
        "        nn.ConvTranspose2d(32,16,3,output_padding=0,stride=2),\n",
        "        nn.BatchNorm2d(16),\n",
        "        nn.ReLU(True),\n",
        "        nn.ConvTranspose2d(16,8,3,output_padding=1,padding=1,stride=2),\n",
        "        nn.BatchNorm2d(8),\n",
        "        nn.ReLU(True),\n",
        "        nn.ConvTranspose2d(8,1,3,output_padding=1,padding=1,stride=2)\n",
        "    )\n",
        "    \n",
        "\n",
        "    self.latent_dim = latent_dim\n",
        "  \n",
        "  def forward(self, inp):\n",
        "    out = self.decode_fc(inp)\n",
        "    out = self.ufl(out)\n",
        "    out = self.decode_cnn(out)\n",
        "    return torch.sigmoid(out)"
      ],
      "metadata": {
        "id": "1_aUPCjMSY_w"
      },
      "execution_count": 6,
      "outputs": []
    },
    {
      "cell_type": "code",
      "source": [
        "encoder = Encoder(latent_dim).to(device)\n",
        "decoder = Decoder(latent_dim).to(device)\n",
        "\n",
        "\n",
        "opt_params = [\n",
        "\t{'params': encoder.parameters()},\n",
        "\t{'params': decoder.parameters()}\n",
        "]\n",
        "loss = torch.nn.MSELoss()\n",
        "optimizer = torch.optim.Adam(opt_params, lr=0.001)\n",
        "n_epochs = 15\n",
        "for epoch in range(n_epochs):\n",
        "  train_loss, val_loss = 0, 0\n",
        "  encoder.train()\n",
        "  decoder.train()\n",
        "\n",
        "  for i, (images, noised_images, labels) in enumerate(train_loader):\n",
        "    images = images.to(device)\n",
        "    noised_images = noised_images.to(device)\n",
        "    labels = labels.to(device)\n",
        "\n",
        "    optimizer.zero_grad()\n",
        "\n",
        "    out = encoder(noised_images)\n",
        "    out = decoder(out)\n",
        "    l = loss(out, images)\n",
        "\n",
        "    train_loss += batch_size * l\n",
        "    l.backward()\n",
        "    optimizer.step()\n",
        "  \n",
        "\n",
        "  encoder.eval()\n",
        "  decoder.eval()\n",
        "\n",
        "  with torch.no_grad():\n",
        "    for i, (images, noised_images, labels) in enumerate(val_loader):\n",
        "      images = images.to(device)\n",
        "      noised_images = noised_images.to(device)\n",
        "      labels = labels.to(device)\n",
        "      out = encoder(noised_images)\n",
        "      out = decoder(out)\n",
        "      l = loss(out, images)\n",
        "      val_loss += batch_size * l\n",
        "  \n",
        "\n",
        "  train_loss /= len(train_loader.dataset)\n",
        "  val_loss /= len(val_loader.dataset)\n",
        "  print(f\"[Epoch {epoch}]\\t\"\n",
        "        f\"Train Loss: {train_loss:.3f}\\t\"\n",
        "        f\"Validation Loss: {val_loss:.3f}\")\n"
      ],
      "metadata": {
        "colab": {
          "base_uri": "https://localhost:8080/"
        },
        "id": "q3pGu0UgYEPT",
        "outputId": "36c86bfe-2ec6-40e3-ad90-5c10d81ce4b8"
      },
      "execution_count": 7,
      "outputs": [
        {
          "output_type": "stream",
          "name": "stdout",
          "text": [
            "[Epoch 0]\tTrain Loss: 0.089\tValidation Loss: 0.050\n",
            "[Epoch 1]\tTrain Loss: 0.047\tValidation Loss: 0.044\n",
            "[Epoch 2]\tTrain Loss: 0.042\tValidation Loss: 0.041\n",
            "[Epoch 3]\tTrain Loss: 0.039\tValidation Loss: 0.038\n",
            "[Epoch 4]\tTrain Loss: 0.037\tValidation Loss: 0.036\n",
            "[Epoch 5]\tTrain Loss: 0.035\tValidation Loss: 0.034\n",
            "[Epoch 6]\tTrain Loss: 0.033\tValidation Loss: 0.033\n",
            "[Epoch 7]\tTrain Loss: 0.032\tValidation Loss: 0.032\n",
            "[Epoch 8]\tTrain Loss: 0.031\tValidation Loss: 0.031\n",
            "[Epoch 9]\tTrain Loss: 0.030\tValidation Loss: 0.030\n",
            "[Epoch 10]\tTrain Loss: 0.030\tValidation Loss: 0.030\n",
            "[Epoch 11]\tTrain Loss: 0.029\tValidation Loss: 0.029\n",
            "[Epoch 12]\tTrain Loss: 0.028\tValidation Loss: 0.029\n",
            "[Epoch 13]\tTrain Loss: 0.028\tValidation Loss: 0.029\n",
            "[Epoch 14]\tTrain Loss: 0.028\tValidation Loss: 0.028\n"
          ]
        }
      ]
    },
    {
      "cell_type": "markdown",
      "source": [
        "###PART 3:"
      ],
      "metadata": {
        "id": "GLwcSx63dFmW"
      }
    },
    {
      "cell_type": "code",
      "source": [
        "plt.figure(figsize=(28,28))\n",
        "for i in range(10):\n",
        "  T = True\n",
        "  sample = None\n",
        "  while T:\n",
        "    n = np.random.randint(0, len(train_data))\n",
        "    if train_data_noised[n][2]==i:\n",
        "      sample = train_data_noised[n]\n",
        "      T = False\n",
        "  img = sample[0]\n",
        "  # print(img)\n",
        "  noised_img = sample[1]\n",
        "  noised_img = noised_img.to(device)\n",
        "  res_img = encoder(noised_img.view(1,1,28,28))\n",
        "  res_img = decoder(res_img).view(28,28)\n",
        "\n",
        "  plt.subplot(1,3,1)\n",
        "  plt.imshow(img.view(28,28),cmap=\"gray\")\n",
        "  plt.subplot(1,3,2)\n",
        "  plt.imshow(noised_img.view(28,28).detach().cpu().numpy(),cmap=\"gray\")\n",
        "  plt.subplot(1,3,3)\n",
        "  plt.imshow(res_img.detach().cpu().numpy(),cmap=\"gray\")\n",
        "  plt.axis('off')\n",
        "  plt.show()\n",
        "\n"
      ],
      "metadata": {
        "colab": {
          "base_uri": "https://localhost:8080/",
          "height": 1000
        },
        "id": "m7jwN20xdH60",
        "outputId": "06a49fa6-1f7f-41f9-ecdc-4bef3557c1ef"
      },
      "execution_count": 10,
      "outputs": [
        {
          "output_type": "display_data",
          "data": {
            "text/plain": [
              "<Figure size 2016x2016 with 3 Axes>"
            ],
            "image/png": "[encoded data removed]"
          },
          "metadata": {
            "needs_background": "light"
          }
        },
        {
          "output_type": "display_data",
          "data": {
            "text/plain": [
              "<Figure size 432x288 with 3 Axes>"
            ],
            "image/png": "[encoded data removed]"
          },
          "metadata": {
            "needs_background": "light"
          }
        },
        {
          "output_type": "display_data",
          "data": {
            "text/plain": [
              "<Figure size 432x288 with 3 Axes>"
            ],
            "image/png": "[encoded data removed]"
          },
          "metadata": {
            "needs_background": "light"
          }
        },
        {
          "output_type": "display_data",
          "data": {
            "text/plain": [
              "<Figure size 432x288 with 3 Axes>"
            ],
            "image/png": "[encoded data removed]"
          },
          "metadata": {
            "needs_background": "light"
          }
        },
        {
          "output_type": "display_data",
          "data": {
            "text/plain": [
              "<Figure size 432x288 with 3 Axes>"
            ],
            "image/png": "[encoded data removed]"
          },
          "metadata": {
            "needs_background": "light"
          }
        },
        {
          "output_type": "display_data",
          "data": {
            "text/plain": [
              "<Figure size 432x288 with 3 Axes>"
            ],
            "image/png": "[encoded data removed]"
          },
          "metadata": {
            "needs_background": "light"
          }
        },
        {
          "output_type": "display_data",
          "data": {
            "text/plain": [
              "<Figure size 432x288 with 3 Axes>"
            ],
            "image/png": "[encoded data removed]"
          },
          "metadata": {
            "needs_background": "light"
          }
        },
        {
          "output_type": "display_data",
          "data": {
            "text/plain": [
              "<Figure size 432x288 with 3 Axes>"
            ],
            "image/png": "[encoded data removed]"
          },
          "metadata": {
            "needs_background": "light"
          }
        },
        {
          "output_type": "display_data",
          "data": {
            "text/plain": [
              "<Figure size 432x288 with 3 Axes>"
            ],
            "image/png": "[encoded data removed]"
          },
          "metadata": {
            "needs_background": "light"
          }
        },
        {
          "output_type": "display_data",
          "data": {
            "text/plain": [
              "<Figure size 432x288 with 3 Axes>"
            ],
            "image/png": "[encoded data removed]"
          },
          "metadata": {
            "needs_background": "light"
          }
        }
      ]
    },
    {
      "cell_type": "markdown",
      "source": [
        "###PART 4:"
      ],
      "metadata": {
        "id": "1dF_UviJdLEk"
      }
    },
    {
      "cell_type": "code",
      "source": [
        "def latent_space(input):\n",
        "  return encoder(input)"
      ],
      "metadata": {
        "id": "7iMbML0odM1A"
      },
      "execution_count": 11,
      "outputs": []
    },
    {
      "cell_type": "markdown",
      "source": [
        "###PART 5:"
      ],
      "metadata": {
        "id": "v2Xv1j6CdUsT"
      }
    },
    {
      "cell_type": "code",
      "source": [
        "X = None\n",
        "for id, (images, noised_images, labels) in enumerate(test_loader):\n",
        "  noised_images = noised_images.to(device)\n",
        "  labels = labels.to(device).view(len(labels), 1)\n",
        "  x = torch.cat((latent_space(noised_images), labels), 1)\n",
        "  X = (x if X == None else torch.cat((X,x),0))\n",
        "\n",
        "\n",
        "pca = PCA(n_components=2)\n",
        "Xpca = pca.fit_transform(X[:,0:4].detach().cpu().numpy())\n",
        "Xpca = torch.cat((torch.tensor(Xpca).to(device), X[:,4].view(-1,1)), 1)\n",
        "\n",
        "plt.scatter(Xpca[:,0].detach().cpu().numpy() , Xpca[:,1].detach().cpu().numpy() , c = Xpca[:,2].detach().cpu().numpy(), cmap=\"tab10\",)\n",
        "plt.show()"
      ],
      "metadata": {
        "colab": {
          "base_uri": "https://localhost:8080/",
          "height": 265
        },
        "id": "jk2yExHvdWQ0",
        "outputId": "5ac24981-d681-4f98-9954-6803d48a7718"
      },
      "execution_count": 12,
      "outputs": [
        {
          "output_type": "display_data",
          "data": {
            "text/plain": [
              "<Figure size 432x288 with 1 Axes>"
            ],
            "image/png": "[encoded data removed]"
          },
          "metadata": {
            "needs_background": "light"
          }
        }
      ]
    },
    {
      "cell_type": "markdown",
      "source": [
        "###PART 6:"
      ],
      "metadata": {
        "id": "DR0INtmyr74f"
      }
    },
    {
      "cell_type": "code",
      "source": [
        "tsne = TSNE(n_components=2)\n",
        "Xtsne = tsne.fit_transform(X[:,0:4].detach().cpu().numpy())\n",
        "Xtsne = torch.cat((torch.tensor(Xtsne).to(device), X[:,4].view(-1,1)), 1)\n",
        "plt.scatter(Xtsne[:,0].detach().cpu().numpy() , Xtsne[:,1].detach().cpu().numpy() , c = Xtsne[:,2].detach().cpu().numpy(), cmap=\"tab10\")\n",
        "plt.show()\n",
        "\n",
        "###It will take 1 min and 15 seconds generally to run this block###"
      ],
      "metadata": {
        "colab": {
          "base_uri": "https://localhost:8080/",
          "height": 336
        },
        "id": "50sLEzLEsAPH",
        "outputId": "ba57f1b1-fe58-44ca-d7e0-ad5be88c26bc"
      },
      "execution_count": 13,
      "outputs": [
        {
          "output_type": "stream",
          "name": "stderr",
          "text": [
            "/usr/local/lib/python3.8/dist-packages/sklearn/manifold/_t_sne.py:780: FutureWarning: The default initialization in TSNE will change from 'random' to 'pca' in 1.2.\n",
            "  warnings.warn(\n",
            "/usr/local/lib/python3.8/dist-packages/sklearn/manifold/_t_sne.py:790: FutureWarning: The default learning rate in TSNE will change from 200.0 to 'auto' in 1.2.\n",
            "  warnings.warn(\n"
          ]
        },
        {
          "output_type": "display_data",
          "data": {
            "text/plain": [
              "<Figure size 432x288 with 1 Axes>"
            ],
            "image/png": "[encoded data removed]"
          },
          "metadata": {
            "needs_background": "light"
          }
        }
      ]
    },
    {
      "cell_type": "markdown",
      "source": [
        "###Part 7:"
      ],
      "metadata": {
        "id": "pqt4cP6BEyEB"
      }
    },
    {
      "cell_type": "markdown",
      "source": [
        "می دانیم که در اتواینکودرها، ما به دنبال این هستیم که نخست ابعاد دیتای ورودی را تا جای ممکن کاهش دهیم به گونه ای که اطلاعات مهم و حیاتی که برای تشخیص آن داده و لیبلش مورد نیاز است در آن ابعاد کاهش یافته شده نیز وجود داشته باشد. و در واقع در بخش اینکودر، این کار انجام شده و بردار لیتنت ساخته می شود. حال با توجه به نتایج تصویری بخش 6 و 7، متوجه می‌شویم که اتواینکودر به طور مناسبی فضای لیتنت را ساخته است، زیرا که می‌توان گفت با تقریب خوبی داده‌های مربوط به هر عدد در یک خوشه قرار گرفته اند و جدا از هم شده اند و این یعنی درایه‌های بردار لیتنت که تعدادشان از بعد داده ورودی نیز کمتر است، توانسته اطلاعات مهم داده و خواصش را در آن به خوبی حفظ کند."
      ],
      "metadata": {
        "id": "bbDXMZXLGNPM"
      }
    },
    {
      "cell_type": "markdown",
      "source": [
        "###Part 1 (Bonus):"
      ],
      "metadata": {
        "id": "MT4lMq9-oKix"
      }
    },
    {
      "cell_type": "code",
      "source": [
        "transform3 = transforms.Compose([\n",
        "    transforms.ToTensor(),\n",
        "    transforms.RandomRotation(degrees=(0,360))\n",
        "])\n",
        "\n",
        "train_data_rotated = [[transform3(d[0]) , transform(d[0]), d[1]] for d in train_data]\n",
        "val_data_rotated = [[transform3(d[0])  , transform(d[0]), d[1]] for d in val_data]\n",
        "test_data_rotated = [[transform3(d[0])  , transform(d[0]), d[1]] for d in test_MNIST]\n",
        "\n",
        "train_loader = torch.utils.data.DataLoader(train_data_rotated, batch_size=batch_size, shuffle=True)\n",
        "val_loader = torch.utils.data.DataLoader(val_data_rotated, batch_size=batch_size, shuffle=True)\n",
        "test_loader = torch.utils.data.DataLoader(test_data_rotated, batch_size=batch_size, shuffle=True)"
      ],
      "metadata": {
        "id": "sBbXmGy7oMi_"
      },
      "execution_count": 14,
      "outputs": []
    },
    {
      "cell_type": "code",
      "source": [],
      "metadata": {
        "id": "H2cHPqVpuNHD"
      },
      "execution_count": null,
      "outputs": []
    }
  ],
  "metadata": {
    "colab": {
      "provenance": []
    },
    "kernelspec": {
      "display_name": "Python 3 (ipykernel)",
      "language": "python",
      "name": "python3"
    },
    "language_info": {
      "codemirror_mode": {
        "name": "ipython",
        "version": 3
      },
      "file_extension": ".py",
      "mimetype": "text/x-python",
      "name": "python",
      "nbconvert_exporter": "python",
      "pygments_lexer": "ipython3",
      "version": "3.9.10"
    },
    "accelerator": "GPU",
    "gpuClass": "standard",
    "widgets": {
      "application/vnd.jupyter.widget-state+json": {
        "39f6d94cf5514831aeb9a268622f1c16": {
          "model_module": "@jupyter-widgets/controls",
          "model_name": "HBoxModel",
          "model_module_version": "1.5.0",
          "state": {
            "_dom_classes": [],
            "_model_module": "@jupyter-widgets/controls",
            "_model_module_version": "1.5.0",
            "_model_name": "HBoxModel",
            "_view_count": null,
            "_view_module": "@jupyter-widgets/controls",
            "_view_module_version": "1.5.0",
            "_view_name": "HBoxView",
            "box_style": "",
            "children": [
              "IPY_MODEL_3b539cf2bad54a089252ccf968c50be2",
              "IPY_MODEL_0d3b9ea3aad5468d95c48dc29e83ac22",
              "IPY_MODEL_593111a47d034a85af07083e40f2dfc5"
            ],
            "layout": "IPY_MODEL_2b26b6e03cc2454c88aa3af62cd55d63"
          }
        },
        "3b539cf2bad54a089252ccf968c50be2": {
          "model_module": "@jupyter-widgets/controls",
          "model_name": "HTMLModel",
          "model_module_version": "1.5.0",
          "state": {
            "_dom_classes": [],
            "_model_module": "@jupyter-widgets/controls",
            "_model_module_version": "1.5.0",
            "_model_name": "HTMLModel",
            "_view_count": null,
            "_view_module": "@jupyter-widgets/controls",
            "_view_module_version": "1.5.0",
            "_view_name": "HTMLView",
            "description": "",
            "description_tooltip": null,
            "layout": "IPY_MODEL_769c5a38db124fcf9a0a59bbe4d916cd",
            "placeholder": "​",
            "style": "IPY_MODEL_8b11364fc27b42fda3e1549896af7d19",
            "value": "100%"
          }
        },
        "0d3b9ea3aad5468d95c48dc29e83ac22": {
          "model_module": "@jupyter-widgets/controls",
          "model_name": "FloatProgressModel",
          "model_module_version": "1.5.0",
          "state": {
            "_dom_classes": [],
            "_model_module": "@jupyter-widgets/controls",
            "_model_module_version": "1.5.0",
            "_model_name": "FloatProgressModel",
            "_view_count": null,
            "_view_module": "@jupyter-widgets/controls",
            "_view_module_version": "1.5.0",
            "_view_name": "ProgressView",
            "bar_style": "success",
            "description": "",
            "description_tooltip": null,
            "layout": "IPY_MODEL_ab26f8e35bcb45bdaf36bcc749bff056",
            "max": 9912422,
            "min": 0,
            "orientation": "horizontal",
            "style": "IPY_MODEL_1c82f0edb1504bc9ace54731a3803597",
            "value": 9912422
          }
        },
        "593111a47d034a85af07083e40f2dfc5": {
          "model_module": "@jupyter-widgets/controls",
          "model_name": "HTMLModel",
          "model_module_version": "1.5.0",
          "state": {
            "_dom_classes": [],
            "_model_module": "@jupyter-widgets/controls",
            "_model_module_version": "1.5.0",
            "_model_name": "HTMLModel",
            "_view_count": null,
            "_view_module": "@jupyter-widgets/controls",
            "_view_module_version": "1.5.0",
            "_view_name": "HTMLView",
            "description": "",
            "description_tooltip": null,
            "layout": "IPY_MODEL_b2d52c23dc93442e8d2799faf6632b78",
            "placeholder": "​",
            "style": "IPY_MODEL_41eb2c50a96b4a2fa69f2a1304f67ced",
            "value": " 9912422/9912422 [00:00&lt;00:00, 190731770.09it/s]"
          }
        },
        "2b26b6e03cc2454c88aa3af62cd55d63": {
          "model_module": "@jupyter-widgets/base",
          "model_name": "LayoutModel",
          "model_module_version": "1.2.0",
          "state": {
            "_model_module": "@jupyter-widgets/base",
            "_model_module_version": "1.2.0",
            "_model_name": "LayoutModel",
            "_view_count": null,
            "_view_module": "@jupyter-widgets/base",
            "_view_module_version": "1.2.0",
            "_view_name": "LayoutView",
            "align_content": null,
            "align_items": null,
            "align_self": null,
            "border": null,
            "bottom": null,
            "display": null,
            "flex": null,
            "flex_flow": null,
            "grid_area": null,
            "grid_auto_columns": null,
            "grid_auto_flow": null,
            "grid_auto_rows": null,
            "grid_column": null,
            "grid_gap": null,
            "grid_row": null,
            "grid_template_areas": null,
            "grid_template_columns": null,
            "grid_template_rows": null,
            "height": null,
            "justify_content": null,
            "justify_items": null,
            "left": null,
            "margin": null,
            "max_height": null,
            "max_width": null,
            "min_height": null,
            "min_width": null,
            "object_fit": null,
            "object_position": null,
            "order": null,
            "overflow": null,
            "overflow_x": null,
            "overflow_y": null,
            "padding": null,
            "right": null,
            "top": null,
            "visibility": null,
            "width": null
          }
        },
        "769c5a38db124fcf9a0a59bbe4d916cd": {
          "model_module": "@jupyter-widgets/base",
          "model_name": "LayoutModel",
          "model_module_version": "1.2.0",
          "state": {
            "_model_module": "@jupyter-widgets/base",
            "_model_module_version": "1.2.0",
            "_model_name": "LayoutModel",
            "_view_count": null,
            "_view_module": "@jupyter-widgets/base",
            "_view_module_version": "1.2.0",
            "_view_name": "LayoutView",
            "align_content": null,
            "align_items": null,
            "align_self": null,
            "border": null,
            "bottom": null,
            "display": null,
            "flex": null,
            "flex_flow": null,
            "grid_area": null,
            "grid_auto_columns": null,
            "grid_auto_flow": null,
            "grid_auto_rows": null,
            "grid_column": null,
            "grid_gap": null,
            "grid_row": null,
            "grid_template_areas": null,
            "grid_template_columns": null,
            "grid_template_rows": null,
            "height": null,
            "justify_content": null,
            "justify_items": null,
            "left": null,
            "margin": null,
            "max_height": null,
            "max_width": null,
            "min_height": null,
            "min_width": null,
            "object_fit": null,
            "object_position": null,
            "order": null,
            "overflow": null,
            "overflow_x": null,
            "overflow_y": null,
            "padding": null,
            "right": null,
            "top": null,
            "visibility": null,
            "width": null
          }
        },
        "8b11364fc27b42fda3e1549896af7d19": {
          "model_module": "@jupyter-widgets/controls",
          "model_name": "DescriptionStyleModel",
          "model_module_version": "1.5.0",
          "state": {
            "_model_module": "@jupyter-widgets/controls",
            "_model_module_version": "1.5.0",
            "_model_name": "DescriptionStyleModel",
            "_view_count": null,
            "_view_module": "@jupyter-widgets/base",
            "_view_module_version": "1.2.0",
            "_view_name": "StyleView",
            "description_width": ""
          }
        },
        "ab26f8e35bcb45bdaf36bcc749bff056": {
          "model_module": "@jupyter-widgets/base",
          "model_name": "LayoutModel",
          "model_module_version": "1.2.0",
          "state": {
            "_model_module": "@jupyter-widgets/base",
            "_model_module_version": "1.2.0",
            "_model_name": "LayoutModel",
            "_view_count": null,
            "_view_module": "@jupyter-widgets/base",
            "_view_module_version": "1.2.0",
            "_view_name": "LayoutView",
            "align_content": null,
            "align_items": null,
            "align_self": null,
            "border": null,
            "bottom": null,
            "display": null,
            "flex": null,
            "flex_flow": null,
            "grid_area": null,
            "grid_auto_columns": null,
            "grid_auto_flow": null,
            "grid_auto_rows": null,
            "grid_column": null,
            "grid_gap": null,
            "grid_row": null,
            "grid_template_areas": null,
            "grid_template_columns": null,
            "grid_template_rows": null,
            "height": null,
            "justify_content": null,
            "justify_items": null,
            "left": null,
            "margin": null,
            "max_height": null,
            "max_width": null,
            "min_height": null,
            "min_width": null,
            "object_fit": null,
            "object_position": null,
            "order": null,
            "overflow": null,
            "overflow_x": null,
            "overflow_y": null,
            "padding": null,
            "right": null,
            "top": null,
            "visibility": null,
            "width": null
          }
        },
        "1c82f0edb1504bc9ace54731a3803597": {
          "model_module": "@jupyter-widgets/controls",
          "model_name": "ProgressStyleModel",
          "model_module_version": "1.5.0",
          "state": {
            "_model_module": "@jupyter-widgets/controls",
            "_model_module_version": "1.5.0",
            "_model_name": "ProgressStyleModel",
            "_view_count": null,
            "_view_module": "@jupyter-widgets/base",
            "_view_module_version": "1.2.0",
            "_view_name": "StyleView",
            "bar_color": null,
            "description_width": ""
          }
        },
        "b2d52c23dc93442e8d2799faf6632b78": {
          "model_module": "@jupyter-widgets/base",
          "model_name": "LayoutModel",
          "model_module_version": "1.2.0",
          "state": {
            "_model_module": "@jupyter-widgets/base",
            "_model_module_version": "1.2.0",
            "_model_name": "LayoutModel",
            "_view_count": null,
            "_view_module": "@jupyter-widgets/base",
            "_view_module_version": "1.2.0",
            "_view_name": "LayoutView",
            "align_content": null,
            "align_items": null,
            "align_self": null,
            "border": null,
            "bottom": null,
            "display": null,
            "flex": null,
            "flex_flow": null,
            "grid_area": null,
            "grid_auto_columns": null,
            "grid_auto_flow": null,
            "grid_auto_rows": null,
            "grid_column": null,
            "grid_gap": null,
            "grid_row": null,
            "grid_template_areas": null,
            "grid_template_columns": null,
            "grid_template_rows": null,
            "height": null,
            "justify_content": null,
            "justify_items": null,
            "left": null,
            "margin": null,
            "max_height": null,
            "max_width": null,
            "min_height": null,
            "min_width": null,
            "object_fit": null,
            "object_position": null,
            "order": null,
            "overflow": null,
            "overflow_x": null,
            "overflow_y": null,
            "padding": null,
            "right": null,
            "top": null,
            "visibility": null,
            "width": null
          }
        },
        "41eb2c50a96b4a2fa69f2a1304f67ced": {
          "model_module": "@jupyter-widgets/controls",
          "model_name": "DescriptionStyleModel",
          "model_module_version": "1.5.0",
          "state": {
            "_model_module": "@jupyter-widgets/controls",
            "_model_module_version": "1.5.0",
            "_model_name": "DescriptionStyleModel",
            "_view_count": null,
            "_view_module": "@jupyter-widgets/base",
            "_view_module_version": "1.2.0",
            "_view_name": "StyleView",
            "description_width": ""
          }
        },
        "a1906f5d1d154718943ce9e6e3d1545f": {
          "model_module": "@jupyter-widgets/controls",
          "model_name": "HBoxModel",
          "model_module_version": "1.5.0",
          "state": {
            "_dom_classes": [],
            "_model_module": "@jupyter-widgets/controls",
            "_model_module_version": "1.5.0",
            "_model_name": "HBoxModel",
            "_view_count": null,
            "_view_module": "@jupyter-widgets/controls",
            "_view_module_version": "1.5.0",
            "_view_name": "HBoxView",
            "box_style": "",
            "children": [
              "IPY_MODEL_b11bb1154e264186815855b66f49727b",
              "IPY_MODEL_84a306dbd182427c8237d7273cf15767",
              "IPY_MODEL_9aa80c5339094e2d8692230d01b6b25d"
            ],
            "layout": "IPY_MODEL_a4bfc3be1d3741f6b8640b34cfac479f"
          }
        },
        "b11bb1154e264186815855b66f49727b": {
          "model_module": "@jupyter-widgets/controls",
          "model_name": "HTMLModel",
          "model_module_version": "1.5.0",
          "state": {
            "_dom_classes": [],
            "_model_module": "@jupyter-widgets/controls",
            "_model_module_version": "1.5.0",
            "_model_name": "HTMLModel",
            "_view_count": null,
            "_view_module": "@jupyter-widgets/controls",
            "_view_module_version": "1.5.0",
            "_view_name": "HTMLView",
            "description": "",
            "description_tooltip": null,
            "layout": "IPY_MODEL_390990f74f434db6abc743d5e303d9de",
            "placeholder": "​",
            "style": "IPY_MODEL_ee87747828b14b51b3f5050dd5887474",
            "value": "100%"
          }
        },
        "84a306dbd182427c8237d7273cf15767": {
          "model_module": "@jupyter-widgets/controls",
          "model_name": "FloatProgressModel",
          "model_module_version": "1.5.0",
          "state": {
            "_dom_classes": [],
            "_model_module": "@jupyter-widgets/controls",
            "_model_module_version": "1.5.0",
            "_model_name": "FloatProgressModel",
            "_view_count": null,
            "_view_module": "@jupyter-widgets/controls",
            "_view_module_version": "1.5.0",
            "_view_name": "ProgressView",
            "bar_style": "success",
            "description": "",
            "description_tooltip": null,
            "layout": "IPY_MODEL_fddf68ca20c24502b1b69ace34198844",
            "max": 28881,
            "min": 0,
            "orientation": "horizontal",
            "style": "IPY_MODEL_8baa066adb2e4d9c8a4069b6032bdc85",
            "value": 28881
          }
        },
        "9aa80c5339094e2d8692230d01b6b25d": {
          "model_module": "@jupyter-widgets/controls",
          "model_name": "HTMLModel",
          "model_module_version": "1.5.0",
          "state": {
            "_dom_classes": [],
            "_model_module": "@jupyter-widgets/controls",
            "_model_module_version": "1.5.0",
            "_model_name": "HTMLModel",
            "_view_count": null,
            "_view_module": "@jupyter-widgets/controls",
            "_view_module_version": "1.5.0",
            "_view_name": "HTMLView",
            "description": "",
            "description_tooltip": null,
            "layout": "IPY_MODEL_642ceb536b1149da8d2a996e206f96b3",
            "placeholder": "​",
            "style": "IPY_MODEL_5d8cf5819c9543989d9a404a79249d7f",
            "value": " 28881/28881 [00:00&lt;00:00, 1991053.48it/s]"
          }
        },
        "a4bfc3be1d3741f6b8640b34cfac479f": {
          "model_module": "@jupyter-widgets/base",
          "model_name": "LayoutModel",
          "model_module_version": "1.2.0",
          "state": {
            "_model_module": "@jupyter-widgets/base",
            "_model_module_version": "1.2.0",
            "_model_name": "LayoutModel",
            "_view_count": null,
            "_view_module": "@jupyter-widgets/base",
            "_view_module_version": "1.2.0",
            "_view_name": "LayoutView",
            "align_content": null,
            "align_items": null,
            "align_self": null,
            "border": null,
            "bottom": null,
            "display": null,
            "flex": null,
            "flex_flow": null,
            "grid_area": null,
            "grid_auto_columns": null,
            "grid_auto_flow": null,
            "grid_auto_rows": null,
            "grid_column": null,
            "grid_gap": null,
            "grid_row": null,
            "grid_template_areas": null,
            "grid_template_columns": null,
            "grid_template_rows": null,
            "height": null,
            "justify_content": null,
            "justify_items": null,
            "left": null,
            "margin": null,
            "max_height": null,
            "max_width": null,
            "min_height": null,
            "min_width": null,
            "object_fit": null,
            "object_position": null,
            "order": null,
            "overflow": null,
            "overflow_x": null,
            "overflow_y": null,
            "padding": null,
            "right": null,
            "top": null,
            "visibility": null,
            "width": null
          }
        },
        "390990f74f434db6abc743d5e303d9de": {
          "model_module": "@jupyter-widgets/base",
          "model_name": "LayoutModel",
          "model_module_version": "1.2.0",
          "state": {
            "_model_module": "@jupyter-widgets/base",
            "_model_module_version": "1.2.0",
            "_model_name": "LayoutModel",
            "_view_count": null,
            "_view_module": "@jupyter-widgets/base",
            "_view_module_version": "1.2.0",
            "_view_name": "LayoutView",
            "align_content": null,
            "align_items": null,
            "align_self": null,
            "border": null,
            "bottom": null,
            "display": null,
            "flex": null,
            "flex_flow": null,
            "grid_area": null,
            "grid_auto_columns": null,
            "grid_auto_flow": null,
            "grid_auto_rows": null,
            "grid_column": null,
            "grid_gap": null,
            "grid_row": null,
            "grid_template_areas": null,
            "grid_template_columns": null,
            "grid_template_rows": null,
            "height": null,
            "justify_content": null,
            "justify_items": null,
            "left": null,
            "margin": null,
            "max_height": null,
            "max_width": null,
            "min_height": null,
            "min_width": null,
            "object_fit": null,
            "object_position": null,
            "order": null,
            "overflow": null,
            "overflow_x": null,
            "overflow_y": null,
            "padding": null,
            "right": null,
            "top": null,
            "visibility": null,
            "width": null
          }
        },
        "ee87747828b14b51b3f5050dd5887474": {
          "model_module": "@jupyter-widgets/controls",
          "model_name": "DescriptionStyleModel",
          "model_module_version": "1.5.0",
          "state": {
            "_model_module": "@jupyter-widgets/controls",
            "_model_module_version": "1.5.0",
            "_model_name": "DescriptionStyleModel",
            "_view_count": null,
            "_view_module": "@jupyter-widgets/base",
            "_view_module_version": "1.2.0",
            "_view_name": "StyleView",
            "description_width": ""
          }
        },
        "fddf68ca20c24502b1b69ace34198844": {
          "model_module": "@jupyter-widgets/base",
          "model_name": "LayoutModel",
          "model_module_version": "1.2.0",
          "state": {
            "_model_module": "@jupyter-widgets/base",
            "_model_module_version": "1.2.0",
            "_model_name": "LayoutModel",
            "_view_count": null,
            "_view_module": "@jupyter-widgets/base",
            "_view_module_version": "1.2.0",
            "_view_name": "LayoutView",
            "align_content": null,
            "align_items": null,
            "align_self": null,
            "border": null,
            "bottom": null,
            "display": null,
            "flex": null,
            "flex_flow": null,
            "grid_area": null,
            "grid_auto_columns": null,
            "grid_auto_flow": null,
            "grid_auto_rows": null,
            "grid_column": null,
            "grid_gap": null,
            "grid_row": null,
            "grid_template_areas": null,
            "grid_template_columns": null,
            "grid_template_rows": null,
            "height": null,
            "justify_content": null,
            "justify_items": null,
            "left": null,
            "margin": null,
            "max_height": null,
            "max_width": null,
            "min_height": null,
            "min_width": null,
            "object_fit": null,
            "object_position": null,
            "order": null,
            "overflow": null,
            "overflow_x": null,
            "overflow_y": null,
            "padding": null,
            "right": null,
            "top": null,
            "visibility": null,
            "width": null
          }
        },
        "8baa066adb2e4d9c8a4069b6032bdc85": {
          "model_module": "@jupyter-widgets/controls",
          "model_name": "ProgressStyleModel",
          "model_module_version": "1.5.0",
          "state": {
            "_model_module": "@jupyter-widgets/controls",
            "_model_module_version": "1.5.0",
            "_model_name": "ProgressStyleModel",
            "_view_count": null,
            "_view_module": "@jupyter-widgets/base",
            "_view_module_version": "1.2.0",
            "_view_name": "StyleView",
            "bar_color": null,
            "description_width": ""
          }
        },
        "642ceb536b1149da8d2a996e206f96b3": {
          "model_module": "@jupyter-widgets/base",
          "model_name": "LayoutModel",
          "model_module_version": "1.2.0",
          "state": {
            "_model_module": "@jupyter-widgets/base",
            "_model_module_version": "1.2.0",
            "_model_name": "LayoutModel",
            "_view_count": null,
            "_view_module": "@jupyter-widgets/base",
            "_view_module_version": "1.2.0",
            "_view_name": "LayoutView",
            "align_content": null,
            "align_items": null,
            "align_self": null,
            "border": null,
            "bottom": null,
            "display": null,
            "flex": null,
            "flex_flow": null,
            "grid_area": null,
            "grid_auto_columns": null,
            "grid_auto_flow": null,
            "grid_auto_rows": null,
            "grid_column": null,
            "grid_gap": null,
            "grid_row": null,
            "grid_template_areas": null,
            "grid_template_columns": null,
            "grid_template_rows": null,
            "height": null,
            "justify_content": null,
            "justify_items": null,
            "left": null,
            "margin": null,
            "max_height": null,
            "max_width": null,
            "min_height": null,
            "min_width": null,
            "object_fit": null,
            "object_position": null,
            "order": null,
            "overflow": null,
            "overflow_x": null,
            "overflow_y": null,
            "padding": null,
            "right": null,
            "top": null,
            "visibility": null,
            "width": null
          }
        },
        "5d8cf5819c9543989d9a404a79249d7f": {
          "model_module": "@jupyter-widgets/controls",
          "model_name": "DescriptionStyleModel",
          "model_module_version": "1.5.0",
          "state": {
            "_model_module": "@jupyter-widgets/controls",
            "_model_module_version": "1.5.0",
            "_model_name": "DescriptionStyleModel",
            "_view_count": null,
            "_view_module": "@jupyter-widgets/base",
            "_view_module_version": "1.2.0",
            "_view_name": "StyleView",
            "description_width": ""
          }
        },
        "67cea66da67e4255aee9abe85fc25bb6": {
          "model_module": "@jupyter-widgets/controls",
          "model_name": "HBoxModel",
          "model_module_version": "1.5.0",
          "state": {
            "_dom_classes": [],
            "_model_module": "@jupyter-widgets/controls",
            "_model_module_version": "1.5.0",
            "_model_name": "HBoxModel",
            "_view_count": null,
            "_view_module": "@jupyter-widgets/controls",
            "_view_module_version": "1.5.0",
            "_view_name": "HBoxView",
            "box_style": "",
            "children": [
              "IPY_MODEL_0874b367991b4ce489a86b748bf9b0f4",
              "IPY_MODEL_08154f37950c4193b0b69a77f09c8fc3",
              "IPY_MODEL_201a165e206043a6b1b961704b8ee869"
            ],
            "layout": "IPY_MODEL_cdda38e919e1420187e9ac6f62109fd3"
          }
        },
        "0874b367991b4ce489a86b748bf9b0f4": {
          "model_module": "@jupyter-widgets/controls",
          "model_name": "HTMLModel",
          "model_module_version": "1.5.0",
          "state": {
            "_dom_classes": [],
            "_model_module": "@jupyter-widgets/controls",
            "_model_module_version": "1.5.0",
            "_model_name": "HTMLModel",
            "_view_count": null,
            "_view_module": "@jupyter-widgets/controls",
            "_view_module_version": "1.5.0",
            "_view_name": "HTMLView",
            "description": "",
            "description_tooltip": null,
            "layout": "IPY_MODEL_59c53b678a8e43e2bbb699c5a9457bb6",
            "placeholder": "​",
            "style": "IPY_MODEL_bf7a86b09fc0485bb33358f11578257f",
            "value": "100%"
          }
        },
        "08154f37950c4193b0b69a77f09c8fc3": {
          "model_module": "@jupyter-widgets/controls",
          "model_name": "FloatProgressModel",
          "model_module_version": "1.5.0",
          "state": {
            "_dom_classes": [],
            "_model_module": "@jupyter-widgets/controls",
            "_model_module_version": "1.5.0",
            "_model_name": "FloatProgressModel",
            "_view_count": null,
            "_view_module": "@jupyter-widgets/controls",
            "_view_module_version": "1.5.0",
            "_view_name": "ProgressView",
            "bar_style": "success",
            "description": "",
            "description_tooltip": null,
            "layout": "IPY_MODEL_f0a0d7e7781d4490b68ae8076b033baf",
            "max": 1648877,
            "min": 0,
            "orientation": "horizontal",
            "style": "IPY_MODEL_e4323c8885ed4581adcd9e5556ec609c",
            "value": 1648877
          }
        },
        "201a165e206043a6b1b961704b8ee869": {
          "model_module": "@jupyter-widgets/controls",
          "model_name": "HTMLModel",
          "model_module_version": "1.5.0",
          "state": {
            "_dom_classes": [],
            "_model_module": "@jupyter-widgets/controls",
            "_model_module_version": "1.5.0",
            "_model_name": "HTMLModel",
            "_view_count": null,
            "_view_module": "@jupyter-widgets/controls",
            "_view_module_version": "1.5.0",
            "_view_name": "HTMLView",
            "description": "",
            "description_tooltip": null,
            "layout": "IPY_MODEL_b0430b36ef7c446ea235bb25bf9f0833",
            "placeholder": "​",
            "style": "IPY_MODEL_d781f557da41485e906142480fb7003c",
            "value": " 1648877/1648877 [00:00&lt;00:00, 42918793.07it/s]"
          }
        },
        "cdda38e919e1420187e9ac6f62109fd3": {
          "model_module": "@jupyter-widgets/base",
          "model_name": "LayoutModel",
          "model_module_version": "1.2.0",
          "state": {
            "_model_module": "@jupyter-widgets/base",
            "_model_module_version": "1.2.0",
            "_model_name": "LayoutModel",
            "_view_count": null,
            "_view_module": "@jupyter-widgets/base",
            "_view_module_version": "1.2.0",
            "_view_name": "LayoutView",
            "align_content": null,
            "align_items": null,
            "align_self": null,
            "border": null,
            "bottom": null,
            "display": null,
            "flex": null,
            "flex_flow": null,
            "grid_area": null,
            "grid_auto_columns": null,
            "grid_auto_flow": null,
            "grid_auto_rows": null,
            "grid_column": null,
            "grid_gap": null,
            "grid_row": null,
            "grid_template_areas": null,
            "grid_template_columns": null,
            "grid_template_rows": null,
            "height": null,
            "justify_content": null,
            "justify_items": null,
            "left": null,
            "margin": null,
            "max_height": null,
            "max_width": null,
            "min_height": null,
            "min_width": null,
            "object_fit": null,
            "object_position": null,
            "order": null,
            "overflow": null,
            "overflow_x": null,
            "overflow_y": null,
            "padding": null,
            "right": null,
            "top": null,
            "visibility": null,
            "width": null
          }
        },
        "59c53b678a8e43e2bbb699c5a9457bb6": {
          "model_module": "@jupyter-widgets/base",
          "model_name": "LayoutModel",
          "model_module_version": "1.2.0",
          "state": {
            "_model_module": "@jupyter-widgets/base",
            "_model_module_version": "1.2.0",
            "_model_name": "LayoutModel",
            "_view_count": null,
            "_view_module": "@jupyter-widgets/base",
            "_view_module_version": "1.2.0",
            "_view_name": "LayoutView",
            "align_content": null,
            "align_items": null,
            "align_self": null,
            "border": null,
            "bottom": null,
            "display": null,
            "flex": null,
            "flex_flow": null,
            "grid_area": null,
            "grid_auto_columns": null,
            "grid_auto_flow": null,
            "grid_auto_rows": null,
            "grid_column": null,
            "grid_gap": null,
            "grid_row": null,
            "grid_template_areas": null,
            "grid_template_columns": null,
            "grid_template_rows": null,
            "height": null,
            "justify_content": null,
            "justify_items": null,
            "left": null,
            "margin": null,
            "max_height": null,
            "max_width": null,
            "min_height": null,
            "min_width": null,
            "object_fit": null,
            "object_position": null,
            "order": null,
            "overflow": null,
            "overflow_x": null,
            "overflow_y": null,
            "padding": null,
            "right": null,
            "top": null,
            "visibility": null,
            "width": null
          }
        },
        "bf7a86b09fc0485bb33358f11578257f": {
          "model_module": "@jupyter-widgets/controls",
          "model_name": "DescriptionStyleModel",
          "model_module_version": "1.5.0",
          "state": {
            "_model_module": "@jupyter-widgets/controls",
            "_model_module_version": "1.5.0",
            "_model_name": "DescriptionStyleModel",
            "_view_count": null,
            "_view_module": "@jupyter-widgets/base",
            "_view_module_version": "1.2.0",
            "_view_name": "StyleView",
            "description_width": ""
          }
        },
        "f0a0d7e7781d4490b68ae8076b033baf": {
          "model_module": "@jupyter-widgets/base",
          "model_name": "LayoutModel",
          "model_module_version": "1.2.0",
          "state": {
            "_model_module": "@jupyter-widgets/base",
            "_model_module_version": "1.2.0",
            "_model_name": "LayoutModel",
            "_view_count": null,
            "_view_module": "@jupyter-widgets/base",
            "_view_module_version": "1.2.0",
            "_view_name": "LayoutView",
            "align_content": null,
            "align_items": null,
            "align_self": null,
            "border": null,
            "bottom": null,
            "display": null,
            "flex": null,
            "flex_flow": null,
            "grid_area": null,
            "grid_auto_columns": null,
            "grid_auto_flow": null,
            "grid_auto_rows": null,
            "grid_column": null,
            "grid_gap": null,
            "grid_row": null,
            "grid_template_areas": null,
            "grid_template_columns": null,
            "grid_template_rows": null,
            "height": null,
            "justify_content": null,
            "justify_items": null,
            "left": null,
            "margin": null,
            "max_height": null,
            "max_width": null,
            "min_height": null,
            "min_width": null,
            "object_fit": null,
            "object_position": null,
            "order": null,
            "overflow": null,
            "overflow_x": null,
            "overflow_y": null,
            "padding": null,
            "right": null,
            "top": null,
            "visibility": null,
            "width": null
          }
        },
        "e4323c8885ed4581adcd9e5556ec609c": {
          "model_module": "@jupyter-widgets/controls",
          "model_name": "ProgressStyleModel",
          "model_module_version": "1.5.0",
          "state": {
            "_model_module": "@jupyter-widgets/controls",
            "_model_module_version": "1.5.0",
            "_model_name": "ProgressStyleModel",
            "_view_count": null,
            "_view_module": "@jupyter-widgets/base",
            "_view_module_version": "1.2.0",
            "_view_name": "StyleView",
            "bar_color": null,
            "description_width": ""
          }
        },
        "b0430b36ef7c446ea235bb25bf9f0833": {
          "model_module": "@jupyter-widgets/base",
          "model_name": "LayoutModel",
          "model_module_version": "1.2.0",
          "state": {
            "_model_module": "@jupyter-widgets/base",
            "_model_module_version": "1.2.0",
            "_model_name": "LayoutModel",
            "_view_count": null,
            "_view_module": "@jupyter-widgets/base",
            "_view_module_version": "1.2.0",
            "_view_name": "LayoutView",
            "align_content": null,
            "align_items": null,
            "align_self": null,
            "border": null,
            "bottom": null,
            "display": null,
            "flex": null,
            "flex_flow": null,
            "grid_area": null,
            "grid_auto_columns": null,
            "grid_auto_flow": null,
            "grid_auto_rows": null,
            "grid_column": null,
            "grid_gap": null,
            "grid_row": null,
            "grid_template_areas": null,
            "grid_template_columns": null,
            "grid_template_rows": null,
            "height": null,
            "justify_content": null,
            "justify_items": null,
            "left": null,
            "margin": null,
            "max_height": null,
            "max_width": null,
            "min_height": null,
            "min_width": null,
            "object_fit": null,
            "object_position": null,
            "order": null,
            "overflow": null,
            "overflow_x": null,
            "overflow_y": null,
            "padding": null,
            "right": null,
            "top": null,
            "visibility": null,
            "width": null
          }
        },
        "d781f557da41485e906142480fb7003c": {
          "model_module": "@jupyter-widgets/controls",
          "model_name": "DescriptionStyleModel",
          "model_module_version": "1.5.0",
          "state": {
            "_model_module": "@jupyter-widgets/controls",
            "_model_module_version": "1.5.0",
            "_model_name": "DescriptionStyleModel",
            "_view_count": null,
            "_view_module": "@jupyter-widgets/base",
            "_view_module_version": "1.2.0",
            "_view_name": "StyleView",
            "description_width": ""
          }
        },
        "30833d99f7d7476480b290b4d15cedab": {
          "model_module": "@jupyter-widgets/controls",
          "model_name": "HBoxModel",
          "model_module_version": "1.5.0",
          "state": {
            "_dom_classes": [],
            "_model_module": "@jupyter-widgets/controls",
            "_model_module_version": "1.5.0",
            "_model_name": "HBoxModel",
            "_view_count": null,
            "_view_module": "@jupyter-widgets/controls",
            "_view_module_version": "1.5.0",
            "_view_name": "HBoxView",
            "box_style": "",
            "children": [
              "IPY_MODEL_52417bcfba7a48438607244df68411f0",
              "IPY_MODEL_8920798959d44f14bfa31b4e767a4976",
              "IPY_MODEL_10ed25acebe340bc9ef4597575222027"
            ],
            "layout": "IPY_MODEL_3bd73e848ee641d0ae50a3a2b6527525"
          }
        },
        "52417bcfba7a48438607244df68411f0": {
          "model_module": "@jupyter-widgets/controls",
          "model_name": "HTMLModel",
          "model_module_version": "1.5.0",
          "state": {
            "_dom_classes": [],
            "_model_module": "@jupyter-widgets/controls",
            "_model_module_version": "1.5.0",
            "_model_name": "HTMLModel",
            "_view_count": null,
            "_view_module": "@jupyter-widgets/controls",
            "_view_module_version": "1.5.0",
            "_view_name": "HTMLView",
            "description": "",
            "description_tooltip": null,
            "layout": "IPY_MODEL_f4e1c9732d7c454996e6464f7ccfcc28",
            "placeholder": "​",
            "style": "IPY_MODEL_cd4120a34d08420b80b33915aebee8a1",
            "value": "100%"
          }
        },
        "8920798959d44f14bfa31b4e767a4976": {
          "model_module": "@jupyter-widgets/controls",
          "model_name": "FloatProgressModel",
          "model_module_version": "1.5.0",
          "state": {
            "_dom_classes": [],
            "_model_module": "@jupyter-widgets/controls",
            "_model_module_version": "1.5.0",
            "_model_name": "FloatProgressModel",
            "_view_count": null,
            "_view_module": "@jupyter-widgets/controls",
            "_view_module_version": "1.5.0",
            "_view_name": "ProgressView",
            "bar_style": "success",
            "description": "",
            "description_tooltip": null,
            "layout": "IPY_MODEL_441ca5539dc5423da129e187e7efa5f8",
            "max": 4542,
            "min": 0,
            "orientation": "horizontal",
            "style": "IPY_MODEL_34fd1645eef14f2dab5addefc8c85d59",
            "value": 4542
          }
        },
        "10ed25acebe340bc9ef4597575222027": {
          "model_module": "@jupyter-widgets/controls",
          "model_name": "HTMLModel",
          "model_module_version": "1.5.0",
          "state": {
            "_dom_classes": [],
            "_model_module": "@jupyter-widgets/controls",
            "_model_module_version": "1.5.0",
            "_model_name": "HTMLModel",
            "_view_count": null,
            "_view_module": "@jupyter-widgets/controls",
            "_view_module_version": "1.5.0",
            "_view_name": "HTMLView",
            "description": "",
            "description_tooltip": null,
            "layout": "IPY_MODEL_15edd17f53c245808061302fb87fb696",
            "placeholder": "​",
            "style": "IPY_MODEL_60ff38725f9b4cc09766a7e987d7f82c",
            "value": " 4542/4542 [00:00&lt;00:00, 293324.23it/s]"
          }
        },
        "3bd73e848ee641d0ae50a3a2b6527525": {
          "model_module": "@jupyter-widgets/base",
          "model_name": "LayoutModel",
          "model_module_version": "1.2.0",
          "state": {
            "_model_module": "@jupyter-widgets/base",
            "_model_module_version": "1.2.0",
            "_model_name": "LayoutModel",
            "_view_count": null,
            "_view_module": "@jupyter-widgets/base",
            "_view_module_version": "1.2.0",
            "_view_name": "LayoutView",
            "align_content": null,
            "align_items": null,
            "align_self": null,
            "border": null,
            "bottom": null,
            "display": null,
            "flex": null,
            "flex_flow": null,
            "grid_area": null,
            "grid_auto_columns": null,
            "grid_auto_flow": null,
            "grid_auto_rows": null,
            "grid_column": null,
            "grid_gap": null,
            "grid_row": null,
            "grid_template_areas": null,
            "grid_template_columns": null,
            "grid_template_rows": null,
            "height": null,
            "justify_content": null,
            "justify_items": null,
            "left": null,
            "margin": null,
            "max_height": null,
            "max_width": null,
            "min_height": null,
            "min_width": null,
            "object_fit": null,
            "object_position": null,
            "order": null,
            "overflow": null,
            "overflow_x": null,
            "overflow_y": null,
            "padding": null,
            "right": null,
            "top": null,
            "visibility": null,
            "width": null
          }
        },
        "f4e1c9732d7c454996e6464f7ccfcc28": {
          "model_module": "@jupyter-widgets/base",
          "model_name": "LayoutModel",
          "model_module_version": "1.2.0",
          "state": {
            "_model_module": "@jupyter-widgets/base",
            "_model_module_version": "1.2.0",
            "_model_name": "LayoutModel",
            "_view_count": null,
            "_view_module": "@jupyter-widgets/base",
            "_view_module_version": "1.2.0",
            "_view_name": "LayoutView",
            "align_content": null,
            "align_items": null,
            "align_self": null,
            "border": null,
            "bottom": null,
            "display": null,
            "flex": null,
            "flex_flow": null,
            "grid_area": null,
            "grid_auto_columns": null,
            "grid_auto_flow": null,
            "grid_auto_rows": null,
            "grid_column": null,
            "grid_gap": null,
            "grid_row": null,
            "grid_template_areas": null,
            "grid_template_columns": null,
            "grid_template_rows": null,
            "height": null,
            "justify_content": null,
            "justify_items": null,
            "left": null,
            "margin": null,
            "max_height": null,
            "max_width": null,
            "min_height": null,
            "min_width": null,
            "object_fit": null,
            "object_position": null,
            "order": null,
            "overflow": null,
            "overflow_x": null,
            "overflow_y": null,
            "padding": null,
            "right": null,
            "top": null,
            "visibility": null,
            "width": null
          }
        },
        "cd4120a34d08420b80b33915aebee8a1": {
          "model_module": "@jupyter-widgets/controls",
          "model_name": "DescriptionStyleModel",
          "model_module_version": "1.5.0",
          "state": {
            "_model_module": "@jupyter-widgets/controls",
            "_model_module_version": "1.5.0",
            "_model_name": "DescriptionStyleModel",
            "_view_count": null,
            "_view_module": "@jupyter-widgets/base",
            "_view_module_version": "1.2.0",
            "_view_name": "StyleView",
            "description_width": ""
          }
        },
        "441ca5539dc5423da129e187e7efa5f8": {
          "model_module": "@jupyter-widgets/base",
          "model_name": "LayoutModel",
          "model_module_version": "1.2.0",
          "state": {
            "_model_module": "@jupyter-widgets/base",
            "_model_module_version": "1.2.0",
            "_model_name": "LayoutModel",
            "_view_count": null,
            "_view_module": "@jupyter-widgets/base",
            "_view_module_version": "1.2.0",
            "_view_name": "LayoutView",
            "align_content": null,
            "align_items": null,
            "align_self": null,
            "border": null,
            "bottom": null,
            "display": null,
            "flex": null,
            "flex_flow": null,
            "grid_area": null,
            "grid_auto_columns": null,
            "grid_auto_flow": null,
            "grid_auto_rows": null,
            "grid_column": null,
            "grid_gap": null,
            "grid_row": null,
            "grid_template_areas": null,
            "grid_template_columns": null,
            "grid_template_rows": null,
            "height": null,
            "justify_content": null,
            "justify_items": null,
            "left": null,
            "margin": null,
            "max_height": null,
            "max_width": null,
            "min_height": null,
            "min_width": null,
            "object_fit": null,
            "object_position": null,
            "order": null,
            "overflow": null,
            "overflow_x": null,
            "overflow_y": null,
            "padding": null,
            "right": null,
            "top": null,
            "visibility": null,
            "width": null
          }
        },
        "34fd1645eef14f2dab5addefc8c85d59": {
          "model_module": "@jupyter-widgets/controls",
          "model_name": "ProgressStyleModel",
          "model_module_version": "1.5.0",
          "state": {
            "_model_module": "@jupyter-widgets/controls",
            "_model_module_version": "1.5.0",
            "_model_name": "ProgressStyleModel",
            "_view_count": null,
            "_view_module": "@jupyter-widgets/base",
            "_view_module_version": "1.2.0",
            "_view_name": "StyleView",
            "bar_color": null,
            "description_width": ""
          }
        },
        "15edd17f53c245808061302fb87fb696": {
          "model_module": "@jupyter-widgets/base",
          "model_name": "LayoutModel",
          "model_module_version": "1.2.0",
          "state": {
            "_model_module": "@jupyter-widgets/base",
            "_model_module_version": "1.2.0",
            "_model_name": "LayoutModel",
            "_view_count": null,
            "_view_module": "@jupyter-widgets/base",
            "_view_module_version": "1.2.0",
            "_view_name": "LayoutView",
            "align_content": null,
            "align_items": null,
            "align_self": null,
            "border": null,
            "bottom": null,
            "display": null,
            "flex": null,
            "flex_flow": null,
            "grid_area": null,
            "grid_auto_columns": null,
            "grid_auto_flow": null,
            "grid_auto_rows": null,
            "grid_column": null,
            "grid_gap": null,
            "grid_row": null,
            "grid_template_areas": null,
            "grid_template_columns": null,
            "grid_template_rows": null,
            "height": null,
            "justify_content": null,
            "justify_items": null,
            "left": null,
            "margin": null,
            "max_height": null,
            "max_width": null,
            "min_height": null,
            "min_width": null,
            "object_fit": null,
            "object_position": null,
            "order": null,
            "overflow": null,
            "overflow_x": null,
            "overflow_y": null,
            "padding": null,
            "right": null,
            "top": null,
            "visibility": null,
            "width": null
          }
        },
        "60ff38725f9b4cc09766a7e987d7f82c": {
          "model_module": "@jupyter-widgets/controls",
          "model_name": "DescriptionStyleModel",
          "model_module_version": "1.5.0",
          "state": {
            "_model_module": "@jupyter-widgets/controls",
            "_model_module_version": "1.5.0",
            "_model_name": "DescriptionStyleModel",
            "_view_count": null,
            "_view_module": "@jupyter-widgets/base",
            "_view_module_version": "1.2.0",
            "_view_name": "StyleView",
            "description_width": ""
          }
        }
      }
    }
  },
  "nbformat": 4,
  "nbformat_minor": 0
}